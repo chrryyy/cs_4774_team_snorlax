{
  "nbformat": 4,
  "nbformat_minor": 0,
  "metadata": {
    "colab": {
      "provenance": [],
      "authorship_tag": "ABX9TyPITU/IbRdypaFBFFvM2SLS",
      "include_colab_link": true
    },
    "kernelspec": {
      "name": "python3",
      "display_name": "Python 3"
    },
    "language_info": {
      "name": "python"
    }
  },
  "cells": [
    {
      "cell_type": "markdown",
      "metadata": {
        "id": "view-in-github",
        "colab_type": "text"
      },
      "source": [
        "<a href=\"https://colab.research.google.com/github/chrryyy/cs_4774_team_snorlax/blob/main/Analysis_of_Improving_Pedestrian_Safety_Final_Notebook.ipynb\" target=\"_parent\"><img src=\"https://colab.research.google.com/assets/colab-badge.svg\" alt=\"Open In Colab\"/></a>"
      ]
    },
    {
      "cell_type": "code",
      "execution_count": 5,
      "metadata": {
        "id": "qiPAHZX_bwO4"
      },
      "outputs": [],
      "source": [
        "import os\n",
        "import numpy as np\n",
        "import matplotlib\n",
        "import matplotlib.pyplot as plt\n",
        "import pandas as pd\n",
        "import seaborn as sns"
      ]
    },
    {
      "cell_type": "code",
      "source": [
        "np.random.seed(42)\n",
        "\n",
        "crash_data = pd.DataFrame()\n",
        "# read the dataset\n",
        "for i in range(6):\n",
        "  df = pd.read_csv(\"Crash_2020_2023_\" + str(i) + \".csv\")\n",
        "  df_ped = df.loc[df[\"PED_NONPED\"] == \"Yes\"]\n",
        "  crash_data = pd.concat([crash_data, df_ped], ignore_index=True)\n",
        "\n",
        "crash_data = crash_data.reset_index(drop=True)\n",
        "crash_data"
      ],
      "metadata": {
        "id": "Gjz8bhEudK18"
      },
      "execution_count": null,
      "outputs": []
    }
  ]
}